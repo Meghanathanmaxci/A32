{
 "cells": [
  {
   "cell_type": "markdown",
   "id": "0f8b82be",
   "metadata": {},
   "source": [
    "# WPP to reverse a string.\n",
    "# Sample string : \"1234abcd\"\n",
    "# Expected output : \"dcba4321\""
   ]
  },
  {
   "cell_type": "code",
   "execution_count": 1,
   "id": "718c9af1",
   "metadata": {},
   "outputs": [
    {
     "name": "stdout",
     "output_type": "stream",
     "text": [
      "dcba4321\n"
     ]
    }
   ],
   "source": [
    "p = '1234abcd'\n",
    "m = p[::-1]\n",
    "print(m)"
   ]
  },
  {
   "cell_type": "code",
   "execution_count": 3,
   "id": "ecedb755",
   "metadata": {},
   "outputs": [
    {
     "name": "stdout",
     "output_type": "stream",
     "text": [
      "Enter the string : 1234abcd\n",
      "dcba4321\n"
     ]
    }
   ],
   "source": [
    "msge = input('Enter the string : ')\n",
    "words = msge.split()\n",
    "rev_msge = []\n",
    "for i in words:\n",
    "    rev_msge.append(i[::-1])\n",
    "    sen = ' '.join(rev_msge)\n",
    "print(sen)\n"
   ]
  },
  {
   "cell_type": "code",
   "execution_count": null,
   "id": "96fe5d3e",
   "metadata": {},
   "outputs": [],
   "source": []
  }
 ],
 "metadata": {
  "kernelspec": {
   "display_name": "Python 3 (ipykernel)",
   "language": "python",
   "name": "python3"
  },
  "language_info": {
   "codemirror_mode": {
    "name": "ipython",
    "version": 3
   },
   "file_extension": ".py",
   "mimetype": "text/x-python",
   "name": "python",
   "nbconvert_exporter": "python",
   "pygments_lexer": "ipython3",
   "version": "3.10.0"
  }
 },
 "nbformat": 4,
 "nbformat_minor": 5
}
